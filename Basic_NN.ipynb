{
 "cells": [
  {
   "cell_type": "code",
   "execution_count": 1,
   "metadata": {
    "collapsed": false
   },
   "outputs": [
    {
     "name": "stdout",
     "output_type": "stream",
     "text": [
      "Populating the interactive namespace from numpy and matplotlib\n"
     ]
    },
    {
     "name": "stderr",
     "output_type": "stream",
     "text": [
      "/Users/matt/.virtualenvs/kaggle/lib/python2.7/site-packages/sklearn/cross_validation.py:44: DeprecationWarning: This module was deprecated in version 0.18 in favor of the model_selection module into which all the refactored classes and functions are moved. Also note that the interface of the new CV iterators are different from that of this module. This module will be removed in 0.20.\n",
      "  \"This module will be removed in 0.20.\", DeprecationWarning)\n",
      "Using Theano backend.\n"
     ]
    }
   ],
   "source": [
    "%pylab inline\n",
    "import numpy as np\n",
    "import pandas as pd\n",
    "#import seaborn as sns\n",
    "import matplotlib.pyplot as plt\n",
    "\n",
    "from sklearn.preprocessing import StandardScaler\n",
    "from sklearn.cross_validation import train_test_split\n",
    "from sklearn.preprocessing import LabelEncoder\n",
    "from sklearn.model_selection import StratifiedShuffleSplit\n",
    "\n",
    "import keras\n",
    "from keras.models import Sequential\n",
    "from keras.layers import Dense,Dropout,Activation\n",
    "from keras.utils.np_utils import to_categorical"
   ]
  },
  {
   "cell_type": "code",
   "execution_count": 2,
   "metadata": {
    "collapsed": false
   },
   "outputs": [],
   "source": [
    "train = pd.read_csv('train.csv')\n",
    "train_labels = train.species\n",
    "train = train.drop(['species', 'id'], axis=1)\n",
    "\n",
    "test = pd.read_csv('test.csv').drop(['id'], axis=1)"
   ]
  },
  {
   "cell_type": "code",
   "execution_count": 3,
   "metadata": {
    "collapsed": false
   },
   "outputs": [],
   "source": [
    "## Encoding the textual labels categorically and normalize them such that \n",
    "## they contain only values between 0 and n_classes-1. \n",
    "label_encoder = LabelEncoder().fit(train_labels)\n",
    "train_labels = label_encoder.transform(train_labels) \n",
    "classes = list(label_encoder.classes_)"
   ]
  },
  {
   "cell_type": "code",
   "execution_count": 4,
   "metadata": {
    "collapsed": false
   },
   "outputs": [],
   "source": [
    "## Standardising the data to give zero mean\n",
    "## This seems to be very important\n",
    "train = StandardScaler().fit(train).transform(train)\n",
    "test = StandardScaler().fit(test).transform(test)"
   ]
  },
  {
   "cell_type": "code",
   "execution_count": 5,
   "metadata": {
    "collapsed": false
   },
   "outputs": [],
   "source": [
    "sss = StratifiedShuffleSplit(n_splits=10, test_size=0.1, random_state=23)\n",
    "for train_index, valid_index in sss.split(train, train_labels):\n",
    "    \n",
    "    ## FIXME isn't this just throwing away the first n-1 splits??\n",
    "    \n",
    "    X_train, X_valid = train[train_index], train[valid_index]\n",
    "    y_train, y_valid = train_labels[train_index], train_labels[valid_index]\n",
    "    \n",
    "## Working with categorical crossentropy function, so converting the labels into \"one-hot\" representation\n",
    "y_train = to_categorical(y_train)\n",
    "y_valid = to_categorical(y_valid)"
   ]
  },
  {
   "cell_type": "code",
   "execution_count": 6,
   "metadata": {
    "collapsed": false
   },
   "outputs": [
    {
     "name": "stdout",
     "output_type": "stream",
     "text": [
      "epoch   0 | train acc: 0.0157, train loss: 4.7778, val acc: 0.0808, val loss: 4.3052\n",
      "epoch   5 | train acc: 0.4299, train loss: 3.1795, val acc: 0.6162, val loss: 2.7405\n",
      "epoch  10 | train acc: 0.7767, train loss: 2.0407, val acc: 0.8384, val loss: 1.5541\n",
      "epoch  15 | train acc: 0.9214, train loss: 1.2142, val acc: 0.9394, val loss: 0.8191\n",
      "epoch  20 | train acc: 0.9607, train loss: 0.6813, val acc: 0.9596, val loss: 0.4246\n",
      "epoch  25 | train acc: 0.9910, train loss: 0.3636, val acc: 0.9495, val loss: 0.2661\n",
      "epoch  30 | train acc: 0.9944, train loss: 0.1938, val acc: 0.9697, val loss: 0.1696\n",
      "epoch  35 | train acc: 0.9955, train loss: 0.1048, val acc: 0.9798, val loss: 0.1335\n",
      "epoch  40 | train acc: 0.9978, train loss: 0.0571, val acc: 0.9899, val loss: 0.1018\n",
      "epoch  45 | train acc: 1.0000, train loss: 0.0275, val acc: 0.9798, val loss: 0.1002\n",
      "epoch  50 | train acc: 1.0000, train loss: 0.0158, val acc: 0.9798, val loss: 0.0916\n",
      "epoch  55 | train acc: 1.0000, train loss: 0.0080, val acc: 0.9798, val loss: 0.0851\n",
      "epoch  60 | train acc: 1.0000, train loss: 0.0037, val acc: 0.9798, val loss: 0.0772\n",
      "epoch  65 | train acc: 1.0000, train loss: 0.0020, val acc: 0.9798, val loss: 0.0793\n",
      "epoch  70 | train acc: 1.0000, train loss: 0.0012, val acc: 0.9899, val loss: 0.0809\n",
      "epoch  75 | train acc: 1.0000, train loss: 0.0005, val acc: 0.9697, val loss: 0.0813\n",
      "epoch  80 | train acc: 1.0000, train loss: 0.0004, val acc: 0.9798, val loss: 0.0883\n",
      "epoch  85 | train acc: 1.0000, train loss: 0.0002, val acc: 0.9899, val loss: 0.0786\n",
      "epoch  90 | train acc: 1.0000, train loss: 0.0001, val acc: 0.9899, val loss: 0.0809\n",
      "epoch  95 | train acc: 1.0000, train loss: 0.0000, val acc: 0.9899, val loss: 0.0916\n",
      "epoch  99 | train acc: 1.0000, train loss: 0.0000, val acc: 0.9899, val loss: 0.0845\n"
     ]
    }
   ],
   "source": [
    "model = Sequential()\n",
    "model.add(Dense(1024,input_dim=X_train.shape[1])) # 192\n",
    "model.add(Dropout(0.2))\n",
    "model.add(Activation('sigmoid'))\n",
    "model.add(Dense(512))\n",
    "model.add(Dropout(0.3))\n",
    "model.add(Activation('sigmoid'))\n",
    "model.add(Dense(size(classes))) # 99\n",
    "model.add(Activation('softmax'))\n",
    "\n",
    "total_epochs = 100\n",
    "\n",
    "def print_results(epoch, logs):\n",
    "    if epoch % 5 == 0 or epoch == total_epochs - 1:\n",
    "        f = 'epoch {:3d} | train acc: {:.4f}, train loss: {:.4f}, val acc: {:.4f}, val loss: {:.4f}'\n",
    "        print(f.format(epoch, logs['acc'], logs['loss'], logs['val_acc'], logs['val_loss']))\n",
    "        \n",
    "cb = keras.callbacks.LambdaCallback(on_epoch_end=print_results)\n",
    "\n",
    "rms = keras.optimizers.RMSprop(lr=0.001)\n",
    "model.compile(loss='categorical_crossentropy',optimizer=rms, metrics=['accuracy'])\n",
    "history = model.fit(X_train, y_train, \n",
    "                    batch_size=128, \n",
    "                    nb_epoch=total_epochs, \n",
    "                    validation_data=(X_valid, y_valid), \n",
    "                    verbose=0, \n",
    "                    callbacks=[cb])"
   ]
  },
  {
   "cell_type": "code",
   "execution_count": 7,
   "metadata": {
    "collapsed": false
   },
   "outputs": [
    {
     "data": {
      "text/plain": [
       "<matplotlib.text.Text at 0x10e904850>"
      ]
     },
     "execution_count": 7,
     "metadata": {},
     "output_type": "execute_result"
    },
    {
     "data": {
      "image/png": "[encoded data removed]",
      "text/plain": [
       "<matplotlib.figure.Figure at 0x10c61f910>"
      ]
     },
     "metadata": {},
     "output_type": "display_data"
    }
   ],
   "source": [
    "plt.plot(history.history['acc'], 'r', history.history['val_acc'], 'b')\n",
    "plt.xlabel('Number of Iterations')\n",
    "plt.ylabel('Accuracy')\n",
    "plt.title('Test vs. Validation Accuracy')"
   ]
  },
  {
   "cell_type": "code",
   "execution_count": 8,
   "metadata": {
    "collapsed": false
   },
   "outputs": [],
   "source": [
    "# test = pd.read_csv('test.csv')\n",
    "# index = test.pop('id')\n",
    "# test = StandardScaler().fit(test).transform(test)\n",
    "# yPred = model.predict_proba(test)\n",
    "\n",
    "## Converting the test predictions in a dataframe as depicted by sample submission\n",
    "# yPred = pd.DataFrame(yPred,index=index,columns=sort(parent_data.species.unique()))\n",
    "\n",
    "# fp = open('submission_nn_kernel.csv','w')\n",
    "# fp.write(yPred.to_csv())"
   ]
  }
 ],
 "metadata": {
  "kernelspec": {
   "display_name": "Python 2",
   "language": "python",
   "name": "python2"
  },
  "language_info": {
   "codemirror_mode": {
    "name": "ipython",
    "version": 2
   },
   "file_extension": ".py",
   "mimetype": "text/x-python",
   "name": "python",
   "nbconvert_exporter": "python",
   "pygments_lexer": "ipython2",
   "version": "2.7.10"
  }
 },
 "nbformat": 4,
 "nbformat_minor": 1
}
